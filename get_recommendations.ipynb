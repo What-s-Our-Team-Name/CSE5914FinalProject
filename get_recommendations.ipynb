{
 "cells": [
  {
   "cell_type": "code",
   "execution_count": 2,
   "id": "7ffd5de7",
   "metadata": {},
   "outputs": [],
   "source": [
    "import pandas as pd\n",
    "import numpy as np\n",
    "from ast import literal_eval"
   ]
  },
  {
   "cell_type": "code",
   "execution_count": 3,
   "id": "54ce792d",
   "metadata": {},
   "outputs": [],
   "source": [
    "#df = pd.read_csv('movie_data_pop.csv')[['title_id', 'title', 'genres', 'dir_list', 'cast_list']]\n",
    "df = pd.read_csv('movie_data_pop.csv')[['title_id', 'title', 'genres', 'dir_list', 'cast_list', 'description']]\n",
    "df = df.dropna()\n",
    "df = df[df['dir_list'].str.contains('Director')]\n",
    "df = df[df['cast_list'].str.contains('Star')]\n",
    "df = df[df['description'] != '\\n']\n",
    "df.index = range(len(df))"
   ]
  },
  {
   "cell_type": "code",
   "execution_count": 4,
   "id": "4e61bd36",
   "metadata": {},
   "outputs": [],
   "source": [
    "df['genres'] = df['genres'].str.strip().str.split(', ')"
   ]
  },
  {
   "cell_type": "code",
   "execution_count": null,
   "id": "60a49e8b",
   "metadata": {},
   "outputs": [],
   "source": [
    "def get_dir(dir_list):\n",
    "    return dir_list[1:]\n",
    "\n",
    "df['dir_list'] = df['dir_list'].apply(literal_eval).apply(get_dir)"
   ]
  },
  {
   "cell_type": "code",
   "execution_count": null,
   "id": "d2a54ed2",
   "metadata": {},
   "outputs": [],
   "source": [
    "def get_cast(cast_list):\n",
    "    return [name[:-1] if ',' in name else name for name in cast_list[1:]]\n",
    "\n",
    "df['cast_list'] = df['cast_list'].apply(literal_eval).apply(get_cast)"
   ]
  },
  {
   "cell_type": "code",
   "execution_count": null,
   "id": "de918b2c",
   "metadata": {},
   "outputs": [],
   "source": [
    "def get_name(name_list):\n",
    "    return [name.replace(' ', '').lower() for name in name_list]\n",
    "\n",
    "df['genres'] = df['genres'].apply(get_name)\n",
    "df['dir_list'] = df['dir_list'].apply(get_name)\n",
    "df['cast_list'] = df['cast_list'].apply(get_name)"
   ]
  },
  {
   "cell_type": "code",
   "execution_count": null,
   "id": "ad17befd",
   "metadata": {},
   "outputs": [],
   "source": [
    "def get_soup(movie):\n",
    "    return ' '.join([' '.join(movie[field]) for field in ['genres', 'dir_list', 'cast_list']])\n",
    "\n",
    "df['soup'] = df.apply(get_soup, axis = 1)"
   ]
  },
  {
   "cell_type": "code",
   "execution_count": null,
   "id": "b5412fff",
   "metadata": {},
   "outputs": [],
   "source": [
    "df['description'] = df['description'].str.replace('[,,.,(,),!,:,?;,\"]', '').str.lower()\n",
    "df['soup'] = df['soup'].str.replace('[,,.,(,),!,:,?;,\"]', '').str.lower()"
   ]
  },
  {
   "cell_type": "code",
   "execution_count": null,
   "id": "8ece11e6",
   "metadata": {},
   "outputs": [],
   "source": [
    "from sklearn.feature_extraction.text import CountVectorizer, TfidfVectorizer\n",
    "count = CountVectorizer(stop_words='english')\n",
    "count_matrix = count.fit_transform(df['soup'])\n",
    "tfidf = TfidfVectorizer(stop_words='english')\n",
    "tfidf_matrix = tfidf.fit_transform(df['description'])"
   ]
  },
  {
   "cell_type": "code",
   "execution_count": null,
   "id": "b088a73f",
   "metadata": {},
   "outputs": [],
   "source": [
    "from sklearn.preprocessing import normalize\n",
    "count_matrix = normalize(count_matrix)"
   ]
  },
  {
   "cell_type": "code",
   "execution_count": null,
   "id": "379f992a",
   "metadata": {},
   "outputs": [],
   "source": [
    "from scipy.sparse import csr_matrix, hstack\n",
    "total_matrix = hstack([count_matrix, tfidf_matrix], format = 'csr')\n",
    "total_matrix = normalize(total_matrix)"
   ]
  },
  {
   "cell_type": "code",
   "execution_count": null,
   "id": "12a26e64",
   "metadata": {},
   "outputs": [],
   "source": [
    "from sklearn.metrics.pairwise import linear_kernel\n",
    "movies, cosine_similarities = {}, {}\n",
    "for i in range(len(df)):\n",
    "    movies[i], cosine_similarities[i] = [], []\n",
    "    cosine_sim = linear_kernel(total_matrix[i], total_matrix)[0]\n",
    "    for item in sorted(list(enumerate(cosine_sim)), key = lambda x: x[1], reverse = True)[:16]:\n",
    "        movies[i].append(item[0])\n",
    "        cosine_similarities[i].append(item[1])"
   ]
  },
  {
   "cell_type": "code",
   "execution_count": null,
   "id": "e7c5ebb7",
   "metadata": {},
   "outputs": [],
   "source": [
    "recom_titleid = pd.DataFrame(index = range(len(df)), columns = range(16))\n",
    "recom_title = pd.DataFrame(index = range(len(df)), columns = range(16))\n",
    "sim_record = pd.DataFrame(index = range(len(df)), columns = range(16))\n",
    "for i in range(len(df)):\n",
    "    recom_titleid.loc[i] = df.loc[movies[i], 'title_id'].to_numpy()\n",
    "    recom_title.loc[i] = df.loc[movies[i], 'title'].to_numpy()\n",
    "    sim_record.loc[i] = cosine_similarities[i]\n",
    "recom_titleid.columns = ['title_id'] + ['rank_{}'.format(i) for i in range(1, 16)]\n",
    "recom_title.columns = ['title'] + ['rank_{}'.format(i) for i in range(1, 16)]\n",
    "sim_record.columns = ['title'] + ['rank_{}'.format(i) for i in range(1, 16)]"
   ]
  },
  {
   "cell_type": "code",
   "execution_count": null,
   "id": "979a13cb",
   "metadata": {},
   "outputs": [],
   "source": [
    "recom_titleid.to_csv('recom_titleid.csv', index = False)\n",
    "recom_title.to_csv('recom_title.csv', index = False)\n",
    "sim_record.to_csv('sim_record.csv', index = False)\n",
    "df[['title_id', 'title']].to_csv('id_title.csv', index = False)"
   ]
  },
  {
   "cell_type": "code",
   "execution_count": null,
   "id": "a979b152",
   "metadata": {},
   "outputs": [],
   "source": []
  }
 ],
 "metadata": {
  "kernelspec": {
   "display_name": "Python 3",
   "language": "python",
   "name": "python3"
  },
  "language_info": {
   "codemirror_mode": {
    "name": "ipython",
    "version": 3
   },
   "file_extension": ".py",
   "mimetype": "text/x-python",
   "name": "python",
   "nbconvert_exporter": "python",
   "pygments_lexer": "ipython3",
   "version": "3.9.5"
  }
 },
 "nbformat": 4,
 "nbformat_minor": 5
}
