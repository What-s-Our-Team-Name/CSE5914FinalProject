{
 "cells": [
  {
   "cell_type": "code",
   "execution_count": 1,
   "id": "28fed77f",
   "metadata": {},
   "outputs": [],
   "source": [
    "import pandas as pd\n",
    "import numpy as np\n",
    "from ast import literal_eval"
   ]
  },
  {
   "cell_type": "code",
   "execution_count": 2,
   "id": "16bb0085",
   "metadata": {},
   "outputs": [],
   "source": [
    "#df = pd.read_csv('movie_data_pop.csv')[['title_id', 'title', 'genres', 'dir_list', 'cast_list']]\n",
    "df = pd.read_csv('movie_data_pop.csv')[['title_id', 'title', 'genres', 'dir_list', 'cast_list', 'description']]\n",
    "df = df.dropna()\n",
    "df = df[df['dir_list'].str.contains('Director')]\n",
    "df = df[df['cast_list'].str.contains('Star')]\n",
    "df = df[df['description'] != '\\n']\n",
    "df.index = range(len(df))"
   ]
  },
  {
   "cell_type": "code",
   "execution_count": 3,
   "id": "e5d32291",
   "metadata": {},
   "outputs": [],
   "source": [
    "df['genres'] = df['genres'].str.strip().str.lower()"
   ]
  },
  {
   "cell_type": "code",
   "execution_count": 4,
   "id": "019ac102",
   "metadata": {},
   "outputs": [],
   "source": [
    "unique_genres = set()\n",
    "for genre in df['genres'].unique():\n",
    "    unique_genres |= set(genre.split(','))"
   ]
  },
  {
   "cell_type": "code",
   "execution_count": 5,
   "id": "03c096d8",
   "metadata": {},
   "outputs": [
    {
     "name": "stdout",
     "output_type": "stream",
     "text": [
      "{'action', ' news', 'crime', 'musical', 'horror', ' thriller', ' music', 'romance', 'adult', ' sport', 'music', 'talk-show', ' drama', ' crime', ' family', 'adventure', 'reality-tv', ' talk-show', 'biography', ' musical', ' animation', 'comedy', 'game-show', ' western', ' romance', 'drama', ' horror', 'animation', 'mystery', ' film-noir', ' biography', ' history', 'war', 'news', 'film-noir', ' reality-tv', ' adventure', ' sci-fi', ' fantasy', 'western', 'history', 'sci-fi', 'fantasy', 'thriller', 'family', ' game-show', ' mystery', ' action', 'sport', ' war', ' comedy'}\n"
     ]
    }
   ],
   "source": [
    "print(unique_genres)"
   ]
  },
  {
   "cell_type": "code",
   "execution_count": 6,
   "id": "ff61079e",
   "metadata": {},
   "outputs": [],
   "source": [
    "df[['title', 'genres']].to_csv('genres.csv', index = False)"
   ]
  },
  {
   "cell_type": "code",
   "execution_count": null,
   "id": "c1742756",
   "metadata": {},
   "outputs": [],
   "source": []
  }
 ],
 "metadata": {
  "kernelspec": {
   "display_name": "Python 3",
   "language": "python",
   "name": "python3"
  },
  "language_info": {
   "codemirror_mode": {
    "name": "ipython",
    "version": 3
   },
   "file_extension": ".py",
   "mimetype": "text/x-python",
   "name": "python",
   "nbconvert_exporter": "python",
   "pygments_lexer": "ipython3",
   "version": "3.9.5"
  }
 },
 "nbformat": 4,
 "nbformat_minor": 5
}
