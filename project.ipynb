{
 "cells": [
  {
   "cell_type": "code",
   "execution_count": 1,
   "id": "151f22be",
   "metadata": {},
   "outputs": [],
   "source": [
    "import pandas as pd\n",
    "import numpy as np\n",
    "from ast import literal_eval"
   ]
  },
  {
   "cell_type": "code",
   "execution_count": 2,
   "id": "30da96cb",
   "metadata": {},
   "outputs": [],
   "source": [
    "df = pd.read_csv('movie_data.csv')[['title_id', 'title', 'genres', 'dir_list', 'cast_list']]\n",
    "df = df.dropna()\n",
    "df = df[df['dir_list'].str.contains('Director')]\n",
    "df = df[df['cast_list'].str.contains('Star')]\n",
    "df.index = range(len(df))"
   ]
  },
  {
   "cell_type": "code",
   "execution_count": 3,
   "id": "e704f902",
   "metadata": {},
   "outputs": [],
   "source": [
    "df['genres'] = df['genres'].str.strip().str.split(', ')"
   ]
  },
  {
   "cell_type": "code",
   "execution_count": 4,
   "id": "4d687c25",
   "metadata": {},
   "outputs": [],
   "source": [
    "def get_dir(dir_list):\n",
    "    return dir_list[1:]\n",
    "\n",
    "df['dir_list'] = df['dir_list'].apply(literal_eval).apply(get_dir)"
   ]
  },
  {
   "cell_type": "code",
   "execution_count": 5,
   "id": "acf120c1",
   "metadata": {},
   "outputs": [],
   "source": [
    "def get_cast(cast_list):\n",
    "    return [name[:-1] if ',' in name else name for name in cast_list[1:10]]\n",
    "\n",
    "df['cast_list'] = df['cast_list'].apply(literal_eval).apply(get_cast)"
   ]
  },
  {
   "cell_type": "code",
   "execution_count": 6,
   "id": "6064226d",
   "metadata": {},
   "outputs": [],
   "source": [
    "def get_name(name_list):\n",
    "    return [name.replace(' ', '').replace('-', '').lower() for name in name_list]\n",
    "\n",
    "df['genres'] = df['genres'].apply(get_name)\n",
    "df['dir_list'] = df['dir_list'].apply(get_name)\n",
    "df['cast_list'] = df['cast_list'].apply(get_name)"
   ]
  },
  {
   "cell_type": "code",
   "execution_count": 7,
   "id": "b2e9d1eb",
   "metadata": {},
   "outputs": [],
   "source": [
    "def get_soup(movie):\n",
    "    return ' '.join([' '.join(movie[field]) for field in ['genres', 'dir_list', 'cast_list']])\n",
    "\n",
    "df['soup'] = df.apply(get_soup, axis = 1)"
   ]
  },
  {
   "cell_type": "code",
   "execution_count": 8,
   "id": "2f58c7a1",
   "metadata": {},
   "outputs": [],
   "source": [
    "from sklearn.feature_extraction.text import CountVectorizer\n",
    "count = CountVectorizer(stop_words='english')\n",
    "count_matrix = count.fit_transform(df['soup'])"
   ]
  },
  {
   "cell_type": "code",
   "execution_count": 9,
   "id": "f183e79e",
   "metadata": {},
   "outputs": [],
   "source": [
    "from sklearn.metrics.pairwise import cosine_similarity\n",
    "memo = {}\n",
    "for i in range(len(df)):\n",
    "    cosine_sim = cosine_similarity(count_matrix[i], count_matrix)[0]\n",
    "    memo[i] = [item[0] for item in sorted(list(enumerate(cosine_sim)), key = lambda x: x[1], reverse = True)[:16]]"
   ]
  },
  {
   "cell_type": "code",
   "execution_count": 18,
   "id": "ce33cb62",
   "metadata": {},
   "outputs": [],
   "source": [
    "recom_titleid = pd.DataFrame(index = range(len(df)), columns = range(16))\n",
    "recom_title = pd.DataFrame(index = range(len(df)), columns = range(16))\n",
    "for i in range(len(df)):\n",
    "    recom_titleid.loc[i] = df.loc[memo[i], 'title_id'].to_numpy()\n",
    "    recom_title.loc[i] = df.loc[memo[i], 'title'].to_numpy()\n",
    "recom_titleid.columns = ['title_id'] + ['rank_{}'.format(i) for i in range(1, 16)]\n",
    "recom_title.columns = ['title'] + ['rank_{}'.format(i) for i in range(1, 16)]"
   ]
  },
  {
   "cell_type": "code",
   "execution_count": 19,
   "id": "27ee4d76",
   "metadata": {},
   "outputs": [],
   "source": [
    "recom_titleid.to_csv('recom_titleid.csv', index = False)\n",
    "recom_title.to_csv('recom_title.csv', index = False)"
   ]
  },
  {
   "cell_type": "code",
   "execution_count": null,
   "id": "c092a7d6",
   "metadata": {},
   "outputs": [],
   "source": []
  }
 ],
 "metadata": {
  "kernelspec": {
   "display_name": "Python 3",
   "language": "python",
   "name": "python3"
  },
  "language_info": {
   "codemirror_mode": {
    "name": "ipython",
    "version": 3
   },
   "file_extension": ".py",
   "mimetype": "text/x-python",
   "name": "python",
   "nbconvert_exporter": "python",
   "pygments_lexer": "ipython3",
   "version": "3.9.5"
  }
 },
 "nbformat": 4,
 "nbformat_minor": 5
}
